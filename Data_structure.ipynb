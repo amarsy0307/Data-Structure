{
  "nbformat": 4,
  "nbformat_minor": 0,
  "metadata": {
    "colab": {
      "provenance": []
    },
    "kernelspec": {
      "name": "python3",
      "display_name": "Python 3"
    },
    "language_info": {
      "name": "python"
    }
  },
  "cells": [
    {
      "cell_type": "markdown",
      "source": [
        "**Theory Question**"
      ],
      "metadata": {
        "id": "I4ymDmtwAAWz"
      }
    },
    {
      "cell_type": "markdown",
      "source": [
        "#Question No:>1:>> What are data structures, and why are they important?\n",
        "\n",
        "Answer: In computer science, a data structure is a method of organizing and storing data to facilitate efficient access, modification, and processing. Imagine them as containers, each with its unique way of arranging information.\n",
        "For example, an array is like a list of numbered boxes, ideal for storing a fixed collection of items of the same type. A linked list is a flexible alternative where elements are connected by pointers, allowing for easy insertions and deletions.\n",
        "\n",
        "Why are data structures important?\n",
        "\n",
        "Data structures are crucial to creating effective and scalable software for a multitude of reasons:\n",
        "Efficiency: Choosing the right data structure can drastically improve a program's speed and resource utilization. For instance, using a hash table to store employee records allows for quick retrieval of employee information, while a tree structure could optimize searching and sorting operations.\n",
        "\n",
        "Faster Operations: Data structures enable efficient storage and retrieval of data, allowing for quicker operations like insertion, deletion, searching, and sorting. This is especially crucial for applications dealing with large datasets or requiring quick responses.\n",
        "\n",
        "Memory Management: Proper data structure selection can minimize memory wastage and ensure efficient memory allocation, helping programs run smoothly without consuming excessive resources.\n",
        "\n",
        "Simplification of Complex Problems: Data structures provide a logical and structured approach to organizing data, which helps break down complex problems into manageable parts and makes them easier to understand and solve.\n",
        "\n",
        "Reusability and Scalability: Well-designed data structures can be reused across different projects, saving development time and promoting consistency. They also allow programs to handle increasing amounts of data efficiently as applications grow.\n",
        "\n",
        "Foundation for Advanced Topics: A strong understanding of data structures is fundamental for delving into advanced computer science topics, such as databases, operating systems, networking, and artificial intelligence.\n",
        "\n",
        "In summary, data structures are indispensable tools that enable programmers to write efficient, scalable, and robust software solutions by organizing and managing data effectively. They influence how you design and implement algorithms and are crucial for developing high-performing applications.\n",
        "\n",
        "\n"
      ],
      "metadata": {
        "id": "RIV_2Q4zAG4z"
      }
    },
    {
      "cell_type": "markdown",
      "source": [
        "#Question No:>2:>> Explain the difference between mutable and immutable data types with examples.\n",
        "\n",
        "Answer:> In programming, particularly in Python, data types are categorized into two main types based on whether their values can be changed after creation:\n",
        "\n",
        "Mutable Data Types\n",
        "\n",
        "Immutable Data Types\n",
        "\n",
        "Understanding the difference between these two types is important for writing efficient and error-free code.\n",
        "\n",
        "1. Mutable Data Types\n",
        "Definition :\n",
        "Mutable data types are those whose values can be changed or modified after the object has been created. This means we can alter, add, or remove elements without changing the object's identity.\n",
        "\n",
        "Common Examples:List,,Dictionary (dict),Set,Bytearray\n",
        "\n",
        "Example Code:>\n",
        "my_list = [1, 2, 3]\n",
        "my_list[0] = 10\n",
        "print(my_list)\n",
        "\n",
        "Output:\n",
        "[10, 2, 3]  # The list my_list was changed after it was created, which shows it is mutable.\n",
        "\n",
        "2. Immutable Data Types\n",
        "\n",
        "Definition:>\n",
        "Immutable data types are those whose values cannot be changed after the object has been created. If we try to modify it, a new object is created instead of altering the original one.\n",
        "\n",
        "Common Examples:> Integer (int),Float,String (str),Tuple,Boolean (bool),\n",
        "Frozenset\n",
        "\n",
        "Example Code:\n",
        "\n",
        "my_string = \"hello\"\n",
        "# my_string[0] = \"H\"  → This would raise an error\n",
        "\n",
        "# Instead, we create a new string\n",
        "my_string = \"Hello\"\n",
        "print(my_string)\n",
        "\n",
        "Output:\n",
        "Hello   #The original string cannot be changed directly, showing that it is immutable.\n",
        "\n"
      ],
      "metadata": {
        "id": "WM_3n1keNqMW"
      }
    },
    {
      "cell_type": "markdown",
      "source": [
        "#Question No:>3:>> What are the main differences between lists and tuples in Python.\n",
        "\n",
        "Answer:> # Key Differences Between Lists and Tuples in Python\n",
        "\n",
        "''' 1. Mutability:\n",
        "      - Lists are mutable: Their elements can be changed after creation (appending, removing, modifying elements).\n",
        "      - Tuples are immutable: Once created, their elements cannot be modified.  Any operation that appears to change\n",
        "      a tuple actually creates a new tuple.\n",
        "'''\n",
        "\n",
        "#  2. Syntax:\n",
        "'''   - Lists are defined using square brackets: []\n",
        "      - Tuples are defined using parentheses: ()  or even without parentheses for single elements.\n",
        "'''\n",
        "''' 3. Use Cases:\n",
        "     - Lists:  Suitable for collections of items that might change over time (e.g., a list of tasks, a sequence of numbers\n",
        "             that needs to be updated).\n",
        "     - Tuples: Ideal for representing fixed collections of items where immutability is important.  For instance, coordinates\n",
        "     of a point, RGB color values, or database records.  Tuples are also useful as keys in dictionaries\n",
        "    because they are hashable due to their immutability.\n",
        "'''\n",
        "\n",
        "# Example demonstrating mutability:\n",
        "\n",
        "my_list = [1, 2, 3]\n",
        "my_tuple = (1, 2, 3)\n",
        "\n",
        "my_list[0] = 10  # Modifying a list element – allowed\n",
        "print(my_list)  # Output: [10, 2, 3]\n",
        "\n",
        "# my_tuple[0] = 10  # Modifying a tuple element – will raise a TypeError\n",
        "# print(my_tuple)\n",
        "\n",
        "# Example demonstrating use in a dictionary:\n",
        "\n",
        "my_dict = {}\n",
        "\n",
        "# my_dict[[1, 2]] = \"This won't work\" # Lists are mutable, so they cannot be used as keys in dictionaries\n",
        "\n",
        "my_dict[(1, 2)] = \"This works\"  # Tuples are immutable, so they can be used as keys\n",
        "my_dict\n",
        "\n",
        "# 4. Performance:\n",
        "#    - Tuples are generally slightly more memory-efficient and have slightly faster access times than lists due to their immutability.\n",
        "#    - The performance difference is often negligible unless dealing with massive datasets.\n",
        "\n",
        "# 5. Methods:\n",
        "# Lists have more methods available due to their mutability (append, extend, insert, remove, pop, etc.).  Tuples only have a few methods (count, index).\n",
        "\n",
        "# In Summary\n",
        "# Choose lists when you need a mutable sequence that can be modified.  Choose tuples for immutable sequences, where data integrity is critical, or when you want to use the sequence as a dictionary key.\n",
        "\n"
      ],
      "metadata": {
        "id": "fJTU9tnlRZTW"
      }
    },
    {
      "cell_type": "markdown",
      "source": [
        "#Question No:>4:>>  Describe how dictionaries store data.\n",
        "\n",
        "Answer:> In Python, a dictionary is a built-in data structure used to store data in key-value pairs. Unlike lists or tuples that store data in an ordered sequence, dictionaries store each value with a unique key, allowing for fast data access and lookup.\n",
        "\n",
        "A dictionary is defined using curly braces {}, and the syntax follows this pattern:\n",
        "\n",
        "my_dict = {\"key1\": \"value1\", \"key2\": \"value2\"}\n",
        "Each key in a dictionary must be unique and immutable (e.g., strings, numbers, or tuples), while the value can be of any data type and can be duplicated. Internally, Python dictionaries use a hashing mechanism. When a key-value pair is added, Python calculates the hash of the key to determine where to store the value in memory. This allows dictionaries to quickly retrieve values based on their keys, making them very efficient for lookup operations.\n",
        "\n",
        "For example:\n",
        "student = {\"name\": \"Alice\", \"age\": 20, \"grade\": \"A\"}\n",
        "print(student[\"name\"])  # Output: Alice\n",
        "\n",
        "In this example, \"name\" is a key, and \"Alice\" is the associated value. You can access the value by referring to its key.\n",
        "\n",
        "Dictionaries are ideal when data needs to be organized by labels or identifiers. They are commonly used in real-world applications such as storing user information, configuration settings, or JSON data."
      ],
      "metadata": {
        "id": "Em46JIJqRjvS"
      }
    },
    {
      "cell_type": "markdown",
      "source": [
        "#Question No:>5:>> Why might you use a set instead of a list in Python?\n",
        "\n",
        "Answer:> In Python, both sets and lists are used to store collections of items. However, a set is a special type of collection that only stores unique elements and is unordered. You might use a set instead of a list when you need to:\n",
        "\n",
        "1.Remove Duplicates Automatically\n",
        "Sets do not allow duplicate values. So if you're working with data where uniqueness is important—like filtering out repeated entries from a list—you can use a set to clean up the data easily.\n",
        "\n",
        "my_list = [1, 2, 2, 3]\n",
        "my_set = set(my_list)  # Result: {1, 2, 3}\n",
        "\n",
        "2.Improve Performance in Membership Tests\n",
        "Sets are much faster than lists for checking if an item exists, especially when dealing with large datasets. This is because sets use a hash table internally, allowing for quick lookups.\n",
        "\n",
        "if 5 in my_set:  # Fast\n",
        "    print(\"Found!\")\n",
        "\n",
        "3.Perform Set Operations\n",
        "Sets support powerful mathematical operations like union, intersection, and difference. These are useful in tasks such as finding common items, combining data, or identifying unique elements between two collections.\n",
        "\n",
        "a = {1, 2, 3}\n",
        "b = {2, 3, 4}\n",
        "print(a & b)  # Intersection: {2, 3}\n",
        "\n",
        "Summary:>\n",
        "Use a set instead of a list when:\n",
        "1.You want to remove duplicates,\n",
        "2.You need fast membership checks,Or you want to use set operations like union and intersection.\n",
        "\n"
      ],
      "metadata": {
        "id": "BA8m0UHfRmuK"
      }
    },
    {
      "cell_type": "markdown",
      "source": [
        "#Question No:>6:>> What is a string in Python, and how is it different from a list?\n",
        "\n",
        "Answer:>  A string in Python is a sequence of characters.  It's an immutable data type,\n",
        " meaning that once you create a string, you cannot change its individual characters.\n",
        " Any operation that appears to modify a string actually creates a new string object.\n",
        "'''\n",
        "# Strings are defined using single quotes (' '), double quotes (\" \"), or triple quotes (''' ''' or \"\"\" \"\"\") for multiline strings.\n",
        "\n",
        "my_string = \"Hello, world!\"\n",
        "# my_string[0] = 'J' # This will cause an error because strings are immutable\n",
        "\n",
        "# Lists, on the other hand, are mutable ordered sequences of items.  These items can be of different data types (numbers, strings, other objects). You can modify a list in-place—change its contents, add elements, or remove elements.\n",
        "\n",
        "my_list = [1, \"apple\", 3.14]\n",
        "my_list[0] = 10 # Modifying a list element\n",
        "\n",
        "# Key Differences:\n",
        "\n",
        "# 1. Mutability: Strings are immutable; lists are mutable.\n",
        "\n",
        "# 2. Element Types:  Strings contain only characters. Lists can hold elements of various types.\n",
        "\n",
        "# 3. Use Cases:\n",
        "#    - Use strings to represent text data.\n",
        "#    - Use lists to store collections of items where modification is expected.\n"
      ],
      "metadata": {
        "id": "jLsDvTa2Rogd"
      }
    },
    {
      "cell_type": "markdown",
      "source": [
        "#Question No:>7:>> How do tuples ensure data integrity in Python?\n",
        "\n",
        "Answer:> # Tuples ensure data integrity in Python through immutability.\n",
        "# Once a tuple is created, its elements cannot be changed. This means that\n",
        "# you can be certain that the data within a tuple will remain constant\n",
        "# throughout the program's execution. This is in contrast to lists, which are mutable.\n",
        "\n",
        "# Example:\n",
        "my_tuple = (1, 2, 3)\n",
        "# Attempting to modify an element will result in an error:\n",
        "my_tuple[0] = 4 # This will raise a TypeError\n",
        "\n",
        "# Use Cases for Data Integrity:\n",
        "# 1. Representing fixed data:  coordinates, RGB colors\n",
        "# 2. Dictionary keys:  Keys in a dictionary must be immutable, so tuples are suitable\n",
        "# 3. Function arguments: Passing a tuple to a function ensures that the data is not modified inadvertently"
      ],
      "metadata": {
        "id": "ZfncGn_9Rrpm"
      }
    },
    {
      "cell_type": "markdown",
      "source": [
        "#Question No:>8:>> What is a hash table, and how does it relate to dictionaries in Python?\n",
        "\n",
        "Answer:> A hash table is a data structure that implements an associative array, meaning it stores key-value pairs.  It uses a hash function to compute an index (or \"bucket\") into an array of buckets or slots, from which the desired value can be found.\n",
        "\n",
        "Here's how it works:\n",
        "\n",
        "1. Hash Function: When you want to store a key-value pair, the hash function takes the key as input and produces an integer (the hash code or hash value).\n",
        "\n",
        "2. Index Calculation: The hash code is then used to calculate an index into the array of buckets.  This index indicates where the key-value pair should be stored.\n",
        "\n",
        "3. Collision Handling:  It's possible that two different keys might produce the same hash code (a \"collision\").  Hash tables employ collision resolution strategies like:\n",
        "    - Separate Chaining: Each bucket stores a linked list (or other data structure) of key-value pairs that hashed to that bucket.\n",
        "    - Open Addressing: If a collision occurs, the algorithm probes for the next available slot in the array.\n",
        "\n",
        "4. Retrieval: To retrieve the value associated with a key, the same hash function is used to compute the index.  The algorithm then searches the bucket at that index for the key and returns the corresponding value.\n",
        "\n",
        "\n",
        "Dictionaries in Python are implemented using hash tables.  This is why dictionary lookups are typically very fast (O(1) on average).  The hash table allows for quick retrieval of values based on their keys, even with large dictionaries."
      ],
      "metadata": {
        "id": "fkI0aHguRtC1"
      }
    },
    {
      "cell_type": "markdown",
      "source": [
        "#Question No:>9:>> Can lists contain different data types in Python ?\n",
        "\n",
        "Amswer:> Yes, lists in Python can contain elements of different data types.\n",
        "my_list = [1, \"hello\", 3.14, True]\n",
        "my_list\n"
      ],
      "metadata": {
        "id": "nabte9vgRuxw"
      }
    },
    {
      "cell_type": "markdown",
      "source": [
        "#Question No:>10:>> Explain why strings are immutable in Python?\n",
        "\n",
        "Answer:> # Strings are immutable in Python because it allows for efficient string manipulation and memory management.  Immutability means that once a string object is created, its value cannot be changed. Any operation that appears to modify the string, such as concatenation or slicing, actually creates a *new* string object.\n",
        "\n",
        "# Here's a breakdown of the reasons:\n",
        "\n",
        "# 1. Memory Management:\n",
        "#    - Immutability allows Python to optimize memory usage. Because a string's value is fixed, Python can store strings in memory more efficiently. If strings were mutable, any modification would require updating the string object in memory, potentially affecting multiple references to the same string.  Immutability avoids these complications.\n",
        "\n",
        "# 2. Thread Safety:\n",
        "#    - Immutable objects are inherently thread-safe.  Multiple threads can access and use the same string object simultaneously without the risk of data corruption because no thread can change the string's value.  If strings were mutable, proper locking mechanisms would be required to ensure thread safety.\n",
        "\n",
        "# 3. Hashing:\n",
        "#    - Many data structures, like dictionaries and sets, rely on hashing to provide fast lookups.  A hash function calculates a unique numerical value for a given key.  Because immutable strings have a constant hash value, they can be used as keys in hash tables. If strings were mutable, their hash value could change, leading to inconsistencies and incorrect lookups in dictionaries and sets.\n",
        "\n",
        "# 4. Caching:\n",
        "#    - Python can cache frequently used strings, leading to better performance.  Because immutable strings do not change, if a string is used many times, Python can store a single copy of it in memory and reuse it—this avoids unnecessary memory allocations.\n",
        "\n",
        "# 5. Simplified Debugging:\n",
        "#    - Knowing that strings are immutable simplifies debugging.  When you see a string variable, you can be sure that its value remains constant until it is explicitly reassigned.\n",
        "\n",
        "\n",
        "# Example illustrating immutability:\n",
        "\n",
        "my_string = \"hello\"\n",
        "new_string = my_string + \" world\"\n",
        "\n",
        "# The variable \"my_string\" still refers to \"hello\". The \"new_string\" variable now points to the *new* string object \"hello world\".\n",
        "# The original string \"hello\" remains unchanged in memory.\n",
        "\n",
        "print(my_string)    # Output: hello\n",
        "print(new_string)   # Output: hello world\n"
      ],
      "metadata": {
        "id": "_1fDn22LRxBO"
      }
    },
    {
      "cell_type": "markdown",
      "source": [
        "#Question No:>11:>> What advantages do dictionaries offer over lists for certain tasks?\n",
        "\n",
        "Answer:>\n",
        "# Advantages of Dictionaries over Lists\n",
        "\n",
        "# 1. Efficient Key-Based Lookups:\n",
        "# Dictionaries use hash tables for storage.  This allows you to look up values\n",
        "# associated with a specific key incredibly quickly (O(1) average time complexity).\n",
        "# Lists, on the other hand, require you to search through each element sequentially\n",
        "# (O(n) time complexity).  If you need to find data based on an identifier (like a name, ID, or other unique key),\n",
        "# a dictionary will be far superior.\n",
        "\n",
        "# Example:\n",
        "student_grades = {\"Alice\": 85, \"Bob\": 92, \"Charlie\": 78}\n",
        "\n",
        "# Finding Bob's grade is an O(1) operation.\n",
        "bobs_grade = student_grades[\"Bob\"]  # Direct access using the key\n",
        "print(f\"Bob's grade is {bobs_grade}\")\n",
        "\n",
        "# 2. Data Association:\n",
        "# Dictionaries are designed to explicitly associate values with keys.  This is ideal\n",
        "# when data elements are naturally related. In contrast, items in a list are simply\n",
        "# stored in a sequence without intrinsic relationships between them.\n",
        "\n",
        "\n",
        "# Example:  Storing information about a person.\n",
        "person = {\n",
        "    \"name\": \"Alice\",\n",
        "    \"age\": 30,\n",
        "    \"city\": \"New York\"\n",
        "}\n",
        "# You can access information directly by using the field's name (key)\n",
        "\n",
        "# 3. Flexible Data Organization:\n",
        "# Dictionaries can easily store data that doesn't have a strict, ordered structure.\n",
        "# If you need to represent a record or a collection of information with various fields,\n",
        "# a dictionary is the preferred choice.\n",
        "\n",
        "\n",
        "# Example: A data structure to record employee information\n",
        "employee_data = {\n",
        "    'employee_id': 12345,\n",
        "    'name': 'Jane Doe',\n",
        "    'department': 'Sales',\n",
        "    'salary': 60000,\n",
        "    'start_date': '2023-01-15'\n",
        "}\n",
        "\n",
        "# 4. Use Cases\n",
        "# Dictionaries are used in configuration files, databases, caches, JSON, to map data (like word counts, user profiles, etc)\n"
      ],
      "metadata": {
        "id": "HcAFhqVZRzHV"
      }
    },
    {
      "cell_type": "markdown",
      "source": [
        "#Question No:>12:>> Describe a scenario where using a tuple would be preferable over a list?\n",
        "\n",
        "Answer:> # Scenario: Storing a fixed set of coordinates for a geographical location.\n",
        "\n",
        "# Using a tuple:\n",
        "coordinates = (34.0522, -118.2437)  # Latitude and longitude of a location\n",
        "\n",
        "# Why a tuple is preferable:\n",
        "# 1. Immutability: Coordinates are unlikely to change. A tuple enforces this,\n",
        "# preventing accidental modification, ensuring data integrity.\n",
        "# 2. Hashability: Tuples can be used as keys in dictionaries, useful for lookups based on locations.\n",
        "# 3. Readability:  The tuple structure clearly indicates that the elements represent a fixed set of data.\n",
        "\n",
        "# Using a list (less suitable):\n",
        "# coordinates_list = [34.0522, -118.2437]\n",
        "\n",
        "# Risk of accidental modification:\n",
        "# coordinates_list[0] = 35.0  # Oops, latitude is now changed!\n"
      ],
      "metadata": {
        "id": "pScCX6zcR045"
      }
    },
    {
      "cell_type": "markdown",
      "source": [
        "#Question No:>13:>>  How do sets handle duplicate values in Python?\n",
        "\n",
        "Answer:> # Sets automatically handle duplicate values by only storing unique elements.\n",
        "# If you try to add a duplicate element to a set, it will simply be ignored.\n",
        "\n",
        "my_set = {1, 2, 2, 3, 3, 3}  # Define a set with duplicate elements\n",
        "print(my_set)  # Output: {1, 2, 3}  (Duplicates are removed)\n"
      ],
      "metadata": {
        "id": "elMt6qO2R29c"
      }
    },
    {
      "cell_type": "markdown",
      "source": [
        "#Question No:>14:>>  How does the “in” keyword work differently for lists and dictionaries?\n",
        "\n",
        "Answer:> # The \"in\" keyword behaves differently for lists and dictionaries:\n",
        "\n",
        "# Lists:\n",
        "# The \"in\" operator checks for membership. It searches the list sequentially\n",
        "# to determine if a given value exists as an element within the list.\n",
        "\n",
        "my_list = [1, 2, 3, 4, 5]\n",
        "print(3 in my_list)  # Output: True\n",
        "print(6 in my_list)  # Output: False\n",
        "\n",
        "# Dictionaries:\n",
        "# The \"in\" operator checks for the existence of a *key*.  It does not check for\n",
        "# the presence of a *value*.\n",
        "\n",
        "my_dict = {\"a\": 1, \"b\": 2, \"c\": 3}\n",
        "print(\"a\" in my_dict)   # Output: True (checks if \"a\" is a key)\n",
        "print(1 in my_dict)   # Output: False (checks if 1 is a key)\n",
        "print(\"d\" in my_dict)   # Output: False (checks if \"d\" is a key)\n",
        "\n",
        "# To check if a *value* exists in a dictionary:\n",
        "\n",
        "print(1 in my_dict.values())  # Output: True (checks for the value 1)\n"
      ],
      "metadata": {
        "id": "WliRaH8-R5JP"
      }
    },
    {
      "cell_type": "markdown",
      "source": [
        "#Question No:>15:>> Can you modify the elements of a tuple? Explain why or why  not?\n",
        "\n",
        "Answer:>\n",
        "my_tuple = (1, 2, 3)\n",
        "\n",
        "# Attempting to modify an element will result in an error:\n",
        "# my_tuple[0] = 4  # This will raise a TypeError because tuples are immutable.\n",
        "\n",
        "# You cannot modify the elements of a tuple directly because tuples are immutable data types.\n",
        "# Any operation that appears to modify a tuple creates a new tuple object instead."
      ],
      "metadata": {
        "id": "O4DauUu7R6wN"
      }
    },
    {
      "cell_type": "markdown",
      "source": [
        "#Question No:>16:>> What is a nested dictionary, and give an example of its use case?\n",
        "\n",
        "Answer:> A nested dictionary is a dictionary where the values themselves are dictionaries.  This allows you to create a hierarchical data structure.\n",
        "\n",
        "# Example Use Case: Representing employee data within different departments.\n",
        "\n",
        "employee_data = {\n",
        "    \"Sales\": {\n",
        "        \"Alice\": {\"id\": 101, \"salary\": 60000},\n",
        "        \"Bob\": {\"id\": 102, \"salary\": 65000},\n",
        "    },\n",
        "    \"Engineering\": {\n",
        "        \"Charlie\": {\"id\": 201, \"salary\": 75000},\n",
        "        \"David\": {\"id\": 202, \"salary\": 80000},\n",
        "    },\n",
        "}\n",
        "\n",
        "# Accessing data:\n",
        "\n",
        "# Get the salary of Alice in the Sales department\n",
        "sales_alice_salary = employee_data[\"Sales\"][\"Alice\"][\"salary\"]\n",
        "print(f\"Alice's salary: ${sales_alice_salary}\")\n",
        "\n",
        "# Get all employees in Engineering\n",
        "engineering_employees = employee_data[\"Engineering\"]\n",
        "print(\"Engineering Employees:\", engineering_employees)\n",
        "\n",
        "# Add a new employee\n",
        "employee_data[\"Sales\"][\"Eve\"] = {\"id\": 103, \"salary\": 70000}\n",
        "print(employee_data[\"Sales\"])\n",
        "\n",
        "# Iterate over departments and employees:\n",
        "for department, employees in employee_data.items():\n",
        "  print(f\"Department: {department}\")\n",
        "  for employee, info in employees.items():\n",
        "    print(f\"  Employee: {employee}, ID: {info['id']}, Salary: ${info['salary']}\")"
      ],
      "metadata": {
        "id": "k2bmINUAR8Uo"
      }
    },
    {
      "cell_type": "markdown",
      "source": [
        "#Question No:>17:>>  Describe the time complexity of accessing elements in a dictionary?\n",
        "\n",
        "Answer:> In Python, dictionaries are implemented using hash tables, which allows for very efficient access to elements.\n",
        "\n",
        "The average-case time complexity of accessing an element in a dictionary is:\n",
        "\n",
        "O(1) — Constant time\n",
        "\n",
        "This means that, on average, you can retrieve the value for a key instantly, regardless of the size of the dictionary. For example:\n",
        "\n",
        "my_dict = {\"name\": \"Alice\", \"age\": 25}\n",
        "print(my_dict[\"name\"])  # Accesses the value in O(1) time\n",
        "However, in rare cases, the time complexity can become:\n",
        "\n",
        "O(n) — Linear time\n",
        "\n",
        "This can happen due to hash collisions or poor hash function performance, but Python's internal implementation is optimized to minimize these situations.\n",
        "\n",
        " Summary:>\n",
        "i.Average-case access time: O(1)\n",
        "ii.Worst-case access time: O(n) (rare)\n",
        "iii.Fast access is one of the main reasons dictionaries are widely used in Python."
      ],
      "metadata": {
        "id": "-u5sphsHR-Ah"
      }
    },
    {
      "cell_type": "markdown",
      "source": [
        "#Question No:>18:>>  In what situations are lists preferred over dictionaries?\n",
        "\n",
        "Answer:> Lists are preferred over dictionaries when:\n",
        "\n",
        "# 1. Order Matters:  Lists maintain the order of elements as they are inserted.  Dictionaries do not guarantee order (though order is preserved in Python 3.7+). If the order of elements is important for your algorithm or processing, a list is the correct choice.\n",
        "\n",
        "# Example:  Storing a sequence of events in chronological order.\n",
        "events = [\"Event A\", \"Event B\", \"Event C\"] # Order is preserved\n",
        "\n",
        "# 2. Sequential Access is Frequent: If you primarily access elements by their position (index) rather than by a key, lists provide direct access with O(1) time complexity.\n",
        "\n",
        "# Example: Processing data where the order is meaningful and you need to access items in sequence.\n",
        "\n",
        "\n",
        "# 3.  Mutable and Dynamic Size: Lists are mutable, so you can easily add or remove elements.  If your collection's size or contents will change frequently, lists are more suitable.\n",
        "\n",
        "\n",
        "# Example:  Building a list of items as you gather data from an external source.  Dictionaries can be resized, but the resize operation may require rehashing, which can be less efficient in this scenario.\n",
        "\n",
        "\n",
        "\n",
        "# 4. No Key-Value Association Needed: When there is no inherent key-value relationship between data points.  The elements are simply a collection of items without a need for lookups based on specific identifiers.\n",
        "\n",
        "# Example: A sequence of numbers, a collection of strings representing file paths, etc.\n",
        "\n",
        "# In essence:\n",
        "# Lists are for ordered collections where you might need to access elements by index or frequently modify the collection.\n",
        "# Dictionaries are for key-value mappings where efficient lookups by key are critical.\n"
      ],
      "metadata": {
        "id": "ArwerjezSAhY"
      }
    },
    {
      "cell_type": "markdown",
      "source": [
        "#Question No:>19:>> Why are dictionaries considered unordered, and how does that affect data retrieval?\n",
        "\n",
        "Answer:> # Assuming the question refers to the dictionary 'employee_data' defined in the provided code.\n",
        "# Dictionaries in Python are considered unordered because the order in which elements are stored in memory is not guaranteed to match the order in which they were inserted.\n",
        "#  Dictionaries are indexed using keys, not numerical positions.\n",
        "#  Python 3.7+ preserves insertion order for dictionaries.  Older versions don't.\n",
        "\n",
        "# Data Retrieval:\n",
        "\n",
        "# Access by key: Data retrieval in dictionaries is typically very fast (O(1) average time complexity).  You use the key to directly access its associated value.\n",
        "\n",
        "employee_data = {\n",
        "    \"Sales\": {\n",
        "        \"Alice\": {\"id\": 101, \"salary\": 60000},\n",
        "        \"Bob\": {\"id\": 102, \"salary\": 65000},\n",
        "    },\n",
        "    \"Engineering\": {\n",
        "        \"Charlie\": {\"id\": 201, \"salary\": 75000},\n",
        "        \"David\": {\"id\": 202, \"salary\": 80000},\n",
        "    },\n",
        "}\n",
        "\n",
        "\n",
        "# Example:  Get the salary of Alice in Sales.\n",
        "alice_salary = employee_data[\"Sales\"][\"Alice\"][\"salary\"]\n",
        "print(f\"Alice's salary: {alice_salary}\")\n",
        "\n",
        "\n",
        "# Iteration:  While the order of keys might not be guaranteed in older Python versions, in Python 3.7+ and later, the order is preserved.\n",
        "for department, employees in employee_data.items():\n",
        "    print(f\"Department: {department}\")\n",
        "    for employee, info in employees.items():\n",
        "        print(f\"  Employee: {employee}, ID: {info['id']}, Salary: ${info['salary']}\")"
      ],
      "metadata": {
        "id": "25aF3SMfSCLY"
      }
    },
    {
      "cell_type": "markdown",
      "source": [
        "#Question No:>20:>> Explain the difference between a list and a dictionary in terms of data retrieval?\n",
        "\n",
        "Answer:> Data Retrieval Differences: Lists vs. Dictionaries\n",
        "\n",
        "# Lists:\n",
        "# - Access by index:  Elements in a list are accessed by their numerical index (position).\n",
        "#   This is a direct access method with O(1) time complexity.\n",
        "# - Sequential access:  Iterating through a list is also relatively fast, with O(n) time complexity where n is the length of the list.\n",
        "# - No inherent key-value relationship: You retrieve elements based on their position within the list.\n",
        "my_list = [10, 20, 30, 40, 50]\n",
        "print(my_list[2])  # Access the element at index 2 (value 30)\n",
        "\n",
        "\n",
        "# Dictionaries:\n",
        "# - Access by key:  Elements are accessed using keys, not numerical indices. The key serves as a label or identifier for the value.\n",
        "# - Hash table-based lookup:  Dictionaries are implemented as hash tables, allowing for very fast key-based lookups (O(1) average time complexity).  This means that finding a value associated with a specific key is typically very efficient, even in large dictionaries.\n",
        "# - Key-value pairs:  Data in a dictionary is stored as key-value pairs. The key must be unique and immutable (like a string, number, or tuple).\n",
        "my_dict = {\"apple\": 1, \"banana\": 2, \"cherry\": 3}\n",
        "print(my_dict[\"banana\"])  # Access the value associated with the key \"banana\"\n"
      ],
      "metadata": {
        "id": "a5R_xyHMSDvn"
      }
    },
    {
      "cell_type": "markdown",
      "source": [
        "**Practical Question**"
      ],
      "metadata": {
        "id": "Rs5BryIr_muj"
      }
    },
    {
      "cell_type": "code",
      "source": [
        "#Question No:>1:>>  Write a code to create a string with your name and print it.\n",
        "name=\"Amar yadav\"\n",
        "print(name)"
      ],
      "metadata": {
        "colab": {
          "base_uri": "https://localhost:8080/"
        },
        "id": "fQiEFCIWnHZL",
        "outputId": "a6cef491-253b-4aae-e04e-9c4e2e6837a7"
      },
      "execution_count": null,
      "outputs": [
        {
          "output_type": "stream",
          "name": "stdout",
          "text": [
            "Amar yadav\n"
          ]
        }
      ]
    },
    {
      "cell_type": "code",
      "source": [
        "#Question No:>2:>>  Write a code to find the length of the string \"Hello World\".\n",
        "string=\"Hello World\"\n",
        "len(string)"
      ],
      "metadata": {
        "colab": {
          "base_uri": "https://localhost:8080/"
        },
        "id": "nQz4eR0bn0A-",
        "outputId": "7ed46761-5ac6-44f6-f77f-7fc55b35b99a"
      },
      "execution_count": null,
      "outputs": [
        {
          "output_type": "execute_result",
          "data": {
            "text/plain": [
              "11"
            ]
          },
          "metadata": {},
          "execution_count": 128
        }
      ]
    },
    {
      "cell_type": "code",
      "source": [
        "#Question No:>3:>>  Write a code to slice the first 3 characters from the string \"Python Programming\".\n",
        "string=\"Python Programming\"\n",
        "string[0:3]"
      ],
      "metadata": {
        "colab": {
          "base_uri": "https://localhost:8080/",
          "height": 36
        },
        "id": "hxfGQWrWoi6Z",
        "outputId": "a87ec5a9-cbfb-4bd8-a702-aa09193004b3"
      },
      "execution_count": null,
      "outputs": [
        {
          "output_type": "execute_result",
          "data": {
            "text/plain": [
              "'Pyt'"
            ],
            "application/vnd.google.colaboratory.intrinsic+json": {
              "type": "string"
            }
          },
          "metadata": {},
          "execution_count": 129
        }
      ]
    },
    {
      "cell_type": "code",
      "source": [
        "#Question No:>4:>>  Write a code to convert the string \"hello\" to uppercase.\n",
        "string=\"hello\"\n",
        "uppercase_text=string.upper()\n",
        "print(uppercase_text)"
      ],
      "metadata": {
        "colab": {
          "base_uri": "https://localhost:8080/"
        },
        "id": "w3chbvh4o-ql",
        "outputId": "9ef9b3f5-0ed1-4eab-9b55-00eef8ae77da"
      },
      "execution_count": null,
      "outputs": [
        {
          "output_type": "stream",
          "name": "stdout",
          "text": [
            "HELLO\n"
          ]
        }
      ]
    },
    {
      "cell_type": "code",
      "source": [
        "#Question No:>5:>> Write a code to replace the word \"apple\" with \"orange\" in the string \"I like apple\".\n",
        "text=\"I like Apple\"\n",
        "new_text=text.replace(\"Apple\",\"Orange\")\n",
        "print(new_text)"
      ],
      "metadata": {
        "colab": {
          "base_uri": "https://localhost:8080/"
        },
        "id": "iCD66d3HpTTD",
        "outputId": "2570012e-b4ed-42fb-810a-37d9285cac97"
      },
      "execution_count": null,
      "outputs": [
        {
          "output_type": "stream",
          "name": "stdout",
          "text": [
            "I like Orange\n"
          ]
        }
      ]
    },
    {
      "cell_type": "code",
      "source": [
        "#Question No:>6:>>Write a code to create a list with numbers 1 to 5 and print it.\n",
        "list=[1,2,3,4,5]\n",
        "print(list)"
      ],
      "metadata": {
        "colab": {
          "base_uri": "https://localhost:8080/"
        },
        "id": "-TX4zDQSpn0j",
        "outputId": "8a7aa102-5e83-44a7-c089-8f3944e355bd"
      },
      "execution_count": null,
      "outputs": [
        {
          "output_type": "stream",
          "name": "stdout",
          "text": [
            "[1, 2, 3, 4, 5]\n"
          ]
        }
      ]
    },
    {
      "cell_type": "code",
      "source": [
        "#Question No:>7:>> Write a code to append the number 10 to the list [1, 2, 3, 4].\n",
        "list=[1,2,3,4]\n",
        "list.append(10)\n",
        "print(list)"
      ],
      "metadata": {
        "colab": {
          "base_uri": "https://localhost:8080/"
        },
        "id": "ePaDCEf_p1zh",
        "outputId": "65559c5a-e709-43e5-8e21-1656a90278b5"
      },
      "execution_count": null,
      "outputs": [
        {
          "output_type": "stream",
          "name": "stdout",
          "text": [
            "[1, 2, 3, 4, 10]\n"
          ]
        }
      ]
    },
    {
      "cell_type": "code",
      "source": [
        "#Question No:>8:>>  Write a code to remove the number 3 from the list [1, 2, 3, 4, 5].\n",
        "list=[1,2,3,4,5]\n",
        "list.remove(3)\n",
        "print(list)"
      ],
      "metadata": {
        "colab": {
          "base_uri": "https://localhost:8080/"
        },
        "id": "cnUaLOJsqCZw",
        "outputId": "205861a0-5575-492c-ee18-593633aa8dff"
      },
      "execution_count": null,
      "outputs": [
        {
          "output_type": "stream",
          "name": "stdout",
          "text": [
            "[1, 2, 4, 5]\n"
          ]
        }
      ]
    },
    {
      "cell_type": "code",
      "source": [
        "#Question No:>9:>>  Write a code to access the second element in the list ['a', 'b', 'c', 'd'].\n",
        "list=['a','b','c','d']\n",
        "list[1]"
      ],
      "metadata": {
        "colab": {
          "base_uri": "https://localhost:8080/",
          "height": 36
        },
        "id": "xQHdntv0qOde",
        "outputId": "0ece217e-b295-44e5-d3c0-60be762aae58"
      },
      "execution_count": null,
      "outputs": [
        {
          "output_type": "execute_result",
          "data": {
            "text/plain": [
              "'b'"
            ],
            "application/vnd.google.colaboratory.intrinsic+json": {
              "type": "string"
            }
          },
          "metadata": {},
          "execution_count": 135
        }
      ]
    },
    {
      "cell_type": "code",
      "source": [
        "#Question No:>10:>>  Write a code to reverse the list [10, 20, 30, 40, 50].\n",
        "list=[10,20,30,40,50]\n",
        "list.reverse()\n",
        "print(list)"
      ],
      "metadata": {
        "colab": {
          "base_uri": "https://localhost:8080/"
        },
        "id": "wUoo9kzwqijc",
        "outputId": "5e03880b-db9f-4db7-9493-0cbe0cf35e57"
      },
      "execution_count": null,
      "outputs": [
        {
          "output_type": "stream",
          "name": "stdout",
          "text": [
            "[50, 40, 30, 20, 10]\n"
          ]
        }
      ]
    },
    {
      "cell_type": "code",
      "source": [
        "#Question No:>11:>> Write a code to create a tuple with the elements 100, 200, 300 and print it.\n",
        "tuple=(100,200,300)\n",
        "print(tuple)"
      ],
      "metadata": {
        "colab": {
          "base_uri": "https://localhost:8080/"
        },
        "id": "FCf-pG-XrmzJ",
        "outputId": "6c32b829-761a-401d-ee5f-214ea64350ea"
      },
      "execution_count": null,
      "outputs": [
        {
          "output_type": "stream",
          "name": "stdout",
          "text": [
            "(100, 200, 300)\n"
          ]
        }
      ]
    },
    {
      "cell_type": "code",
      "source": [
        "#Question No:>12:>>  Write a code to access the second-to-last element of the tuple ('red', 'green', 'blue', 'yellow').\n",
        "tuple=('red','green','blue','yellow')\n",
        "tuple[-2]\n",
        "print(f\"the second-to-last element is = {tuple[-2]}\")"
      ],
      "metadata": {
        "colab": {
          "base_uri": "https://localhost:8080/"
        },
        "id": "fEwubEUYtZ1I",
        "outputId": "5e615e09-0bcd-4427-d62b-a0b6d7938730"
      },
      "execution_count": null,
      "outputs": [
        {
          "output_type": "stream",
          "name": "stdout",
          "text": [
            "the second-to-last element is = blue\n"
          ]
        }
      ]
    },
    {
      "cell_type": "markdown",
      "source": [],
      "metadata": {
        "id": "MevfpSCHvFCQ"
      }
    },
    {
      "cell_type": "code",
      "source": [
        " #Question No:>13:>> Write a code to find the minimum number in the tuple (10, 20, 5, 15).\n",
        " num=(10,20,5,15)\n",
        " min_number= min(num)\n",
        " print(f\"The minumum number is {min_number}\")"
      ],
      "metadata": {
        "colab": {
          "base_uri": "https://localhost:8080/"
        },
        "id": "tQw14Do3u4Gc",
        "outputId": "399a58a1-46f9-464d-98b3-949637b2a220"
      },
      "execution_count": null,
      "outputs": [
        {
          "output_type": "stream",
          "name": "stdout",
          "text": [
            "The minumum number is 5\n"
          ]
        }
      ]
    },
    {
      "cell_type": "code",
      "source": [
        "#Question No:>14:>>  Write a code to find the index of the element \"cat\" in the tuple ('dog', 'cat', 'rabbit').\n",
        "animal=('dog','cat','rabbit')\n",
        "index_of_cat= animal.index(\"cat\")\n",
        "print(f\"The Index of cat= {index_of_cat}\")\n"
      ],
      "metadata": {
        "colab": {
          "base_uri": "https://localhost:8080/"
        },
        "id": "xXjiTGlevr4Z",
        "outputId": "3090a2b6-92be-441a-8e4b-10a435994a5e"
      },
      "execution_count": null,
      "outputs": [
        {
          "output_type": "stream",
          "name": "stdout",
          "text": [
            "The Index of cat= 1\n"
          ]
        }
      ]
    },
    {
      "cell_type": "code",
      "source": [
        "#Question No:>15:>>  Write a code to create a tuple containing three different fruits and check if \"kiwi\" is in it.\n",
        "fruits = ('apple', 'banana', 'orange')\n",
        "\n",
        "if \"kiwi\" in fruits:\n",
        "    print(\"Kiwi is in the tuple.\")\n",
        "else:\n",
        "    print(\"Kiwi is not in the tuple.\")\n"
      ],
      "metadata": {
        "colab": {
          "base_uri": "https://localhost:8080/"
        },
        "id": "p3asKcI_wnFh",
        "outputId": "b2d988af-f5e8-4775-fb48-0e9d8dfd5a57"
      },
      "execution_count": null,
      "outputs": [
        {
          "output_type": "stream",
          "name": "stdout",
          "text": [
            "Kiwi is not in the tuple.\n"
          ]
        }
      ]
    },
    {
      "cell_type": "code",
      "source": [
        "#Question No:>16:>>  Write a code to create a set with the elements 'a', 'b', 'c' and print it.\n",
        "elements={'a','b','c'}\n",
        "print(f\"The set of element is = {elements}\")"
      ],
      "metadata": {
        "colab": {
          "base_uri": "https://localhost:8080/"
        },
        "id": "aCWKSwrow_PW",
        "outputId": "32027671-9c59-4be4-d902-d032f4d84d63"
      },
      "execution_count": null,
      "outputs": [
        {
          "output_type": "stream",
          "name": "stdout",
          "text": [
            "The set of element is = {'c', 'b', 'a'}\n"
          ]
        }
      ]
    },
    {
      "cell_type": "code",
      "source": [
        "#Question No:>17:>>  Write a code to clear all elements from the set {1, 2, 3, 4, 5}.\n",
        "elements={1,2,3,4,5}\n",
        "clear_all_element = elements.clear()\n",
        "print(f\"All elements of set= {clear_all_element}\")"
      ],
      "metadata": {
        "colab": {
          "base_uri": "https://localhost:8080/"
        },
        "id": "2LivYewhx8zV",
        "outputId": "1f96e748-a670-45bd-e601-fe1736bed95e"
      },
      "execution_count": null,
      "outputs": [
        {
          "output_type": "stream",
          "name": "stdout",
          "text": [
            "All elements of set= None\n"
          ]
        }
      ]
    },
    {
      "cell_type": "code",
      "source": [
        "#Question No:>18:>>  Write a code to remove the element 4 from the set {1, 2, 3, 4}.\n",
        "element={1,2,3,4}\n",
        "element.remove(4)\n",
        "print(f\"Remove the 4 from the set is = {element}\")"
      ],
      "metadata": {
        "colab": {
          "base_uri": "https://localhost:8080/"
        },
        "id": "20ZDyABpy4DH",
        "outputId": "6d7cdcc8-28d9-465f-afbb-d38bfaffe051"
      },
      "execution_count": null,
      "outputs": [
        {
          "output_type": "stream",
          "name": "stdout",
          "text": [
            "Remove the 4 from the set is = {1, 2, 3}\n"
          ]
        }
      ]
    },
    {
      "cell_type": "code",
      "source": [
        "#Question No:>19:>> Write a code to find the union of two sets {1, 2, 3} and {3, 4, 5}.\n",
        "set1={1,2,3}\n",
        "set2={3,4,5}\n",
        "set_of_union= set1.union(set2)\n",
        "print(set_of_union)"
      ],
      "metadata": {
        "colab": {
          "base_uri": "https://localhost:8080/"
        },
        "id": "NMZTOnBH0NFg",
        "outputId": "a5c28c67-b0ad-4c35-d0ee-b8928f27d9fa"
      },
      "execution_count": null,
      "outputs": [
        {
          "output_type": "stream",
          "name": "stdout",
          "text": [
            "{1, 2, 3, 4, 5}\n"
          ]
        }
      ]
    },
    {
      "cell_type": "code",
      "source": [
        "#Question No:>20:>> Write a code to find the intersection of two sets {1, 2, 3} and {2, 3, 4}.\n",
        "set1={1,2,3}\n",
        "set2={2,3,4}\n",
        "intersection=set1.intersection(set2)\n",
        "print(intersection)"
      ],
      "metadata": {
        "colab": {
          "base_uri": "https://localhost:8080/"
        },
        "id": "YZsE_zKq1Eve",
        "outputId": "cfb6de2f-d870-468a-e94e-9c65292f1aed"
      },
      "execution_count": null,
      "outputs": [
        {
          "output_type": "stream",
          "name": "stdout",
          "text": [
            "{2, 3}\n"
          ]
        }
      ]
    },
    {
      "cell_type": "code",
      "source": [
        " #Question No:>21:>> Write a code to create a dictionary with the keys \"name\", \"age\", and \"city\", and print it.\n",
        " person={\"name\":\"Amar yadav\",\"age\":28,\"city\":\"varanasi\"}\n",
        " print(person)"
      ],
      "metadata": {
        "colab": {
          "base_uri": "https://localhost:8080/"
        },
        "id": "eXK9zBu31pak",
        "outputId": "b6a00ffd-9aa7-4530-f135-d221d180e7a4"
      },
      "execution_count": null,
      "outputs": [
        {
          "output_type": "stream",
          "name": "stdout",
          "text": [
            "{'name': 'Amar yadav', 'age': 28, 'city': 'varanasi'}\n"
          ]
        }
      ]
    },
    {
      "cell_type": "code",
      "source": [
        "#Question No:>22:>> Write a code to add a new key-value pair \"country\": \"USA\" to the dictionary {'name': 'John', 'age': 25}.\n",
        "person={\"name\":\"John\",\"age\":25}\n",
        "person[\"county\"]=\"USA\"\n",
        "print(person)\n"
      ],
      "metadata": {
        "colab": {
          "base_uri": "https://localhost:8080/"
        },
        "id": "9a7vvAiV29oH",
        "outputId": "4f4ebb25-c1d1-4993-ed2d-828b3f9351b9"
      },
      "execution_count": null,
      "outputs": [
        {
          "output_type": "stream",
          "name": "stdout",
          "text": [
            "{'name': 'John', 'age': 25, 'county': 'USA'}\n"
          ]
        }
      ]
    },
    {
      "cell_type": "code",
      "source": [
        "#Question No:>23:>> Write a code to access the value associated with the key \"name\" in the dictionary {'name': 'Alice', 'age': 30}.\n",
        "person={\"name\":\"Alice\",\"age\":30}\n",
        "print(person[\"name\"])"
      ],
      "metadata": {
        "colab": {
          "base_uri": "https://localhost:8080/"
        },
        "id": "i3oxA1RN3yyB",
        "outputId": "35c20ae1-7292-4698-f12f-eb92cea02843"
      },
      "execution_count": null,
      "outputs": [
        {
          "output_type": "stream",
          "name": "stdout",
          "text": [
            "Alice\n"
          ]
        }
      ]
    },
    {
      "cell_type": "code",
      "source": [
        "#Question No:>24:>> Write a code to remove the key \"age\" from the dictionary {'name': 'Bob', 'age': 22, 'city': 'New York'}.\n",
        "person= {'name': 'Bob', 'age': 22, 'city': 'New York'}\n",
        "del person[\"age\"]\n",
        "print(person)"
      ],
      "metadata": {
        "colab": {
          "base_uri": "https://localhost:8080/"
        },
        "id": "jHD57t0k5UTl",
        "outputId": "ac4e9315-3d33-4701-f525-2a6230fd76ac"
      },
      "execution_count": null,
      "outputs": [
        {
          "output_type": "stream",
          "name": "stdout",
          "text": [
            "{'name': 'Bob', 'city': 'New York'}\n"
          ]
        }
      ]
    },
    {
      "cell_type": "code",
      "source": [
        "#Question No:>25:>> Write a code to check if the key \"city\" exists in the dictionary {'name': 'Alice', 'city': 'Paris'}.\n",
        "person={'name': 'Alice', 'city': 'Paris'}\n",
        "if \"city\" in person:\n",
        "  print(f\"The key city exists in the dictionary\")\n",
        "else:\n",
        "  print(f\"The key city exists in the dictionary\")"
      ],
      "metadata": {
        "colab": {
          "base_uri": "https://localhost:8080/"
        },
        "id": "nufIp-Hr56__",
        "outputId": "a41f17a8-8af4-42d8-ca0a-abb258645b70"
      },
      "execution_count": null,
      "outputs": [
        {
          "output_type": "stream",
          "name": "stdout",
          "text": [
            "The key city exists in the dictionary\n"
          ]
        }
      ]
    },
    {
      "cell_type": "code",
      "source": [
        "#Question No:>26:>> Write a code to create a list, a tuple, and a dictionary, and print them all.\n",
        "my_list = [1, 2, 3, 4, 5]\n",
        "my_tuple = ('apple', 'banana', 'cherry')\n",
        "my_dict = {'name': 'Alice', 'age': 30, 'city': 'New York'}\n",
        "\n",
        "print(\"List:\", my_list)\n",
        "print(\"Tuple:\", my_tuple)\n",
        "print(\"Dictionary:\", my_dict)\n"
      ],
      "metadata": {
        "colab": {
          "base_uri": "https://localhost:8080/"
        },
        "id": "9fnFpdsK6vsP",
        "outputId": "a89f11e8-316c-4da3-a89a-a2e230952f95"
      },
      "execution_count": null,
      "outputs": [
        {
          "output_type": "stream",
          "name": "stdout",
          "text": [
            "List: [1, 2, 3, 4, 5]\n",
            "Tuple: ('apple', 'banana', 'cherry')\n",
            "Dictionary: {'name': 'Alice', 'age': 30, 'city': 'New York'}\n"
          ]
        }
      ]
    },
    {
      "cell_type": "code",
      "source": [
        "#Question No:>27:>> Write a code to create a list of 5 random numbers between 1 and 100, sort it in ascending order, and print the result.(replaced)\n",
        "num=[23,56,45,67,24]\n",
        "result=num.sort()\n",
        "print(f\"result= {num}\")"
      ],
      "metadata": {
        "colab": {
          "base_uri": "https://localhost:8080/"
        },
        "id": "QLYJ3xO47dUq",
        "outputId": "66e53a02-ba7a-4581-8577-dbe1a889c6b6"
      },
      "execution_count": null,
      "outputs": [
        {
          "output_type": "stream",
          "name": "stdout",
          "text": [
            "result= [23, 24, 45, 56, 67]\n"
          ]
        }
      ]
    },
    {
      "cell_type": "code",
      "source": [
        "#Question No:>28:>>  Write a code to create a list with strings and print the element at the third index.\n",
        "name=[\"ram\",\"shyam\",\"Mohan\",\"Suresh\"]\n",
        "print(f\"the third index ={name[2]}\")"
      ],
      "metadata": {
        "colab": {
          "base_uri": "https://localhost:8080/"
        },
        "id": "e-4L0pTK8wRO",
        "outputId": "a9cf537d-1d91-44a6-fe0f-497a579cd9cf"
      },
      "execution_count": null,
      "outputs": [
        {
          "output_type": "stream",
          "name": "stdout",
          "text": [
            "the third index =Mohan\n"
          ]
        }
      ]
    },
    {
      "cell_type": "code",
      "source": [
        "#Question No:>29:>> Write a code to combine two dictionaries into one and print the result.\n",
        "data1={\"name\":\"Rahul\",\"age\":28}\n",
        "data2={\"city\":\"varanasi\",\"country\":\"India\"}\n",
        "combined_data={**data1,**data2}\n",
        "print(f\"The combined data is ={combined_data}\")"
      ],
      "metadata": {
        "colab": {
          "base_uri": "https://localhost:8080/"
        },
        "id": "jqD3i-xp9g69",
        "outputId": "1fc5727e-f7d2-4da9-dcef-f520407c7345"
      },
      "execution_count": null,
      "outputs": [
        {
          "output_type": "stream",
          "name": "stdout",
          "text": [
            "The combined data is ={'name': 'Rahul', 'age': 28, 'city': 'varanasi', 'country': 'India'}\n"
          ]
        }
      ]
    },
    {
      "cell_type": "code",
      "source": [
        "#Question No:>30:>>  Write a code to convert a list of strings into a set.\n",
        "string_list = ['apple', 'banana', 'apple', 'orange', 'banana']\n",
        "string_set = set(string_list)\n",
        "print(\"Set of strings:\", string_set)\n"
      ],
      "metadata": {
        "colab": {
          "base_uri": "https://localhost:8080/"
        },
        "id": "EKHISR9m-7Hk",
        "outputId": "a908e068-8064-483a-ef79-fd97a83aac6f"
      },
      "execution_count": null,
      "outputs": [
        {
          "output_type": "stream",
          "name": "stdout",
          "text": [
            "Set of strings: {'apple', 'orange', 'banana'}\n"
          ]
        }
      ]
    }
  ]
}